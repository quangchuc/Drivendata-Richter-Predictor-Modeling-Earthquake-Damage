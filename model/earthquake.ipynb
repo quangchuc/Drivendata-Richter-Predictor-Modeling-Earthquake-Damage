{
 "cells": [
  {
   "cell_type": "code",
   "execution_count": 1,
   "metadata": {
    "_cell_guid": "b1076dfc-b9ad-4769-8c92-a6c4dae69d19",
    "_uuid": "8f2839f25d086af736a60e9eeb907d3b93b6e0e5",
    "execution": {
     "iopub.execute_input": "2020-11-15T14:36:17.376240Z",
     "iopub.status.busy": "2020-11-15T14:36:17.375508Z",
     "iopub.status.idle": "2020-11-15T14:36:18.545931Z",
     "shell.execute_reply": "2020-11-15T14:36:18.544761Z"
    },
    "papermill": {
     "duration": 1.188123,
     "end_time": "2020-11-15T14:36:18.546053",
     "exception": false,
     "start_time": "2020-11-15T14:36:17.357930",
     "status": "completed"
    },
    "tags": []
   },
   "outputs": [
    {
     "name": "stdout",
     "output_type": "stream",
     "text": [
      "/kaggle/input/richters-predictor-modeling-earthquake-damage/train_labels.csv\n",
      "/kaggle/input/richters-predictor-modeling-earthquake-damage/submission_format.csv\n",
      "/kaggle/input/richters-predictor-modeling-earthquake-damage/train_values.csv\n",
      "/kaggle/input/richters-predictor-modeling-earthquake-damage/test_values.csv\n"
     ]
    }
   ],
   "source": [
    "import numpy as np\n",
    "import pandas as pd\n",
    "import os\n",
    "for dirname, _, filenames in os.walk('/kaggle/input'):\n",
    "    for filename in filenames:\n",
    "        print(os.path.join(dirname, filename))\n",
    "\n",
    "X = pd.read_csv('../input/richters-predictor-modeling-earthquake-damage/train_values.csv', index_col = 'building_id')\n",
    "y = pd.read_csv('../input/richters-predictor-modeling-earthquake-damage/train_labels.csv', index_col = 'building_id')\n",
    "X_test = pd.read_csv('../input/richters-predictor-modeling-earthquake-damage/test_values.csv', index_col = 'building_id')"
   ]
  },
  {
   "cell_type": "code",
   "execution_count": 2,
   "metadata": {
    "execution": {
     "iopub.execute_input": "2020-11-15T14:36:18.574503Z",
     "iopub.status.busy": "2020-11-15T14:36:18.572623Z",
     "iopub.status.idle": "2020-11-15T14:36:18.575281Z",
     "shell.execute_reply": "2020-11-15T14:36:18.575829Z"
    },
    "papermill": {
     "duration": 0.018927,
     "end_time": "2020-11-15T14:36:18.575989",
     "exception": false,
     "start_time": "2020-11-15T14:36:18.557062",
     "status": "completed"
    },
    "tags": []
   },
   "outputs": [],
   "source": [
    "num_cols = [col for col in X.columns if X[col].dtypes=='int64']\n",
    "cat_cols = [col for col in X.columns if X[col].dtypes=='object']"
   ]
  },
  {
   "cell_type": "code",
   "execution_count": 3,
   "metadata": {
    "execution": {
     "iopub.execute_input": "2020-11-15T14:36:18.600239Z",
     "iopub.status.busy": "2020-11-15T14:36:18.599466Z",
     "iopub.status.idle": "2020-11-15T14:36:22.530583Z",
     "shell.execute_reply": "2020-11-15T14:36:22.529491Z"
    },
    "papermill": {
     "duration": 3.946103,
     "end_time": "2020-11-15T14:36:22.530727",
     "exception": false,
     "start_time": "2020-11-15T14:36:18.584624",
     "status": "completed"
    },
    "tags": []
   },
   "outputs": [],
   "source": [
    "from sklearn.preprocessing import OneHotEncoder, StandardScaler, LabelEncoder\n",
    "from sklearn.impute import SimpleImputer \n",
    "from sklearn.compose import ColumnTransformer \n",
    "from sklearn.pipeline import Pipeline \n",
    "from xgboost import XGBClassifier\n",
    "from sklearn.model_selection import StratifiedKFold, RandomizedSearchCV\n",
    "from sklearn.metrics import f1_score"
   ]
  },
  {
   "cell_type": "code",
   "execution_count": 4,
   "metadata": {
    "execution": {
     "iopub.execute_input": "2020-11-15T14:36:22.604332Z",
     "iopub.status.busy": "2020-11-15T14:36:22.603460Z",
     "iopub.status.idle": "2020-11-15T14:36:22.859300Z",
     "shell.execute_reply": "2020-11-15T14:36:22.856999Z"
    },
    "papermill": {
     "duration": 0.31989,
     "end_time": "2020-11-15T14:36:22.859463",
     "exception": false,
     "start_time": "2020-11-15T14:36:22.539573",
     "status": "completed"
    },
    "tags": []
   },
   "outputs": [],
   "source": [
    "X_train = pd.get_dummies(X)"
   ]
  },
  {
   "cell_type": "markdown",
   "metadata": {
    "papermill": {
     "duration": 0.00891,
     "end_time": "2020-11-15T14:36:22.877562",
     "exception": false,
     "start_time": "2020-11-15T14:36:22.868652",
     "status": "completed"
    },
    "tags": []
   },
   "source": [
    "0.727 {'subsample': 0.5, 'min_child_weight': 1, 'max_depth': 7, 'gamma': 1.5, 'colsample_bytree': 0.7}\n",
    "\n",
    "0.744 {'subsample': 0.3, 'min_child_weight': 1, 'max_depth': 9, 'gamma': 1.5, 'colsample_bytree': 0.65}"
   ]
  },
  {
   "cell_type": "code",
   "execution_count": 5,
   "metadata": {
    "execution": {
     "iopub.execute_input": "2020-11-15T14:36:22.909624Z",
     "iopub.status.busy": "2020-11-15T14:36:22.907789Z",
     "iopub.status.idle": "2020-11-15T14:36:22.910327Z",
     "shell.execute_reply": "2020-11-15T14:36:22.910818Z"
    },
    "papermill": {
     "duration": 0.024407,
     "end_time": "2020-11-15T14:36:22.910949",
     "exception": false,
     "start_time": "2020-11-15T14:36:22.886542",
     "status": "completed"
    },
    "tags": []
   },
   "outputs": [],
   "source": [
    "params = {\n",
    "        'min_child_weight': [0.9, 1, 1.1],\n",
    "        'gamma': [1.4, 1.5, 1.6],\n",
    "        'subsample': [0.15, 0.2, 0.25, 0.3],\n",
    "        'colsample_bytree': [0.6, 0.65, 0.7],\n",
    "        'max_depth': [8, 9, 10, 11]\n",
    "        }\n",
    "xgb = XGBClassifier(n_estimators=1000, \n",
    "                    learning_rate=0.02, \n",
    "                    tree_method='gpu_hist',\n",
    "                    objective='multi:softprob',\n",
    "                    silent=True)\n",
    "\n",
    "folds = 5\n",
    "param_comb = 5\n",
    "skf = StratifiedKFold(n_splits=folds, shuffle=True, random_state=1001)\n",
    "random_search = RandomizedSearchCV(xgb, param_distributions=params, \n",
    "                                   n_iter=param_comb, \n",
    "                                   scoring='f1_micro', \n",
    "                                   n_jobs=4, \n",
    "                                   cv=skf.split(X_train, y), \n",
    "                                   verbose=3,\n",
    "                                   random_state=1001)"
   ]
  },
  {
   "cell_type": "code",
   "execution_count": 6,
   "metadata": {
    "execution": {
     "iopub.execute_input": "2020-11-15T14:36:22.935135Z",
     "iopub.status.busy": "2020-11-15T14:36:22.934046Z",
     "iopub.status.idle": "2020-11-15T15:08:30.641624Z",
     "shell.execute_reply": "2020-11-15T15:08:30.642455Z"
    },
    "papermill": {
     "duration": 1927.722727,
     "end_time": "2020-11-15T15:08:30.642703",
     "exception": false,
     "start_time": "2020-11-15T14:36:22.919976",
     "status": "completed"
    },
    "tags": []
   },
   "outputs": [
    {
     "name": "stdout",
     "output_type": "stream",
     "text": [
      "Fitting 5 folds for each of 5 candidates, totalling 25 fits\n"
     ]
    },
    {
     "name": "stderr",
     "output_type": "stream",
     "text": [
      "[Parallel(n_jobs=4)]: Using backend LokyBackend with 4 concurrent workers.\n",
      "[Parallel(n_jobs=4)]: Done  25 out of  25 | elapsed: 31.2min finished\n",
      "/opt/conda/lib/python3.7/site-packages/sklearn/utils/validation.py:72: DataConversionWarning: A column-vector y was passed when a 1d array was expected. Please change the shape of y to (n_samples, ), for example using ravel().\n",
      "  return f(**kwargs)\n"
     ]
    },
    {
     "name": "stdout",
     "output_type": "stream",
     "text": [
      "[15:07:33] WARNING: ../src/learner.cc:516: \n",
      "Parameters: { silent } might not be used.\n",
      "\n",
      "  This may not be accurate due to some parameters are only used in language bindings but\n",
      "  passed down to XGBoost core.  Or some parameters are not used but slip through this\n",
      "  verification. Please open an issue if you find above cases.\n",
      "\n",
      "\n",
      "\n",
      " Best hyperparameters:\n",
      "{'subsample': 0.25, 'min_child_weight': 1, 'max_depth': 11, 'gamma': 1.4, 'colsample_bytree': 0.65}\n",
      "\n",
      " Best estimator:\n",
      "XGBClassifier(base_score=0.5, booster='gbtree', colsample_bylevel=1,\n",
      "              colsample_bynode=1, colsample_bytree=0.65, gamma=1.4, gpu_id=0,\n",
      "              importance_type='gain', interaction_constraints='',\n",
      "              learning_rate=0.02, max_delta_step=0, max_depth=11,\n",
      "              min_child_weight=1, missing=nan,\n",
      "              monotone_constraints='(0,0,0,0,0,0,0,0,0,0,0,0,0,0,0,0,0,0,0,0,0,0,0,0,0,0,0,0,0,0,0,0,0,0,0,0,0,0,0,0,0,0,0,0,0,0,0,0,0,0,0,0,0,0,0,0,0,0,0,0,0,0,0,0,0,0,0,0)',\n",
      "              n_estimators=1000, n_jobs=0, num_parallel_tree=1,\n",
      "              objective='multi:softprob', random_state=0, reg_alpha=0,\n",
      "              reg_lambda=1, scale_pos_weight=None, silent=True, subsample=0.25,\n",
      "              tree_method='gpu_hist', validate_parameters=1, verbosity=None)\n"
     ]
    }
   ],
   "source": [
    "random_search.fit(X_train, y)\n",
    "print('\\n Best hyperparameters:')\n",
    "print(random_search.best_params_)\n",
    "print('\\n Best estimator:')\n",
    "print(random_search.best_estimator_)\n"
   ]
  },
  {
   "cell_type": "code",
   "execution_count": 7,
   "metadata": {
    "execution": {
     "iopub.execute_input": "2020-11-15T15:08:30.675574Z",
     "iopub.status.busy": "2020-11-15T15:08:30.673827Z",
     "iopub.status.idle": "2020-11-15T15:08:30.676226Z",
     "shell.execute_reply": "2020-11-15T15:08:30.676702Z"
    },
    "papermill": {
     "duration": 0.021936,
     "end_time": "2020-11-15T15:08:30.676819",
     "exception": false,
     "start_time": "2020-11-15T15:08:30.654883",
     "status": "completed"
    },
    "tags": []
   },
   "outputs": [],
   "source": [
    "model = XGBClassifier(base_score=0.5, booster='gbtree', colsample_bylevel=1,\n",
    "              colsample_bynode=1, colsample_bytree=0.65, gamma=1.4, gpu_id=0,\n",
    "              importance_type='gain', interaction_constraints='',\n",
    "              learning_rate=0.02, max_delta_step=0, max_depth=11,\n",
    "              min_child_weight=1, missing=None,\n",
    "              monotone_constraints='(0,0,0,0,0,0,0,0,0,0,0,0,0,0,0,0,0,0,0,0,0,0,0,0,0,0,0,0,0,0,0,0,0,0,0,0,0,0,0,0,0,0,0,0,0,0,0,0,0,0,0,0,0,0,0,0,0,0,0,0,0,0,0,0,0,0,0,0)',\n",
    "              n_estimators=1000, n_jobs=0, num_parallel_tree=1,\n",
    "              objective='multi:softprob', random_state=0, reg_alpha=0,\n",
    "              reg_lambda=1, scale_pos_weight=None, silent=True, subsample=0.25,\n",
    "              tree_method='gpu_hist', validate_parameters=1, verbosity=None)\n",
    "\n"
   ]
  },
  {
   "cell_type": "code",
   "execution_count": 8,
   "metadata": {
    "execution": {
     "iopub.execute_input": "2020-11-15T15:08:30.704093Z",
     "iopub.status.busy": "2020-11-15T15:08:30.703321Z",
     "iopub.status.idle": "2020-11-15T15:10:58.298247Z",
     "shell.execute_reply": "2020-11-15T15:10:58.299419Z"
    },
    "papermill": {
     "duration": 147.611986,
     "end_time": "2020-11-15T15:10:58.299726",
     "exception": false,
     "start_time": "2020-11-15T15:08:30.687740",
     "status": "completed"
    },
    "tags": []
   },
   "outputs": [
    {
     "name": "stdout",
     "output_type": "stream",
     "text": [
      "[15:08:31] WARNING: ../src/learner.cc:516: \n",
      "Parameters: { silent } might not be used.\n",
      "\n",
      "  This may not be accurate due to some parameters are only used in language bindings but\n",
      "  passed down to XGBoost core.  Or some parameters are not used but slip through this\n",
      "  verification. Please open an issue if you find above cases.\n",
      "\n",
      "\n",
      "f1 micro score: 0.7694214527189075\n"
     ]
    }
   ],
   "source": [
    "from sklearn.metrics import f1_score\n",
    "model.fit(X_train,y)\n",
    "preds = model.predict(X_train)\n",
    "print('f1 micro score:', f1_score(y, preds, average='micro'))\n"
   ]
  },
  {
   "cell_type": "code",
   "execution_count": 9,
   "metadata": {
    "execution": {
     "iopub.execute_input": "2020-11-15T15:10:58.337860Z",
     "iopub.status.busy": "2020-11-15T15:10:58.337036Z",
     "iopub.status.idle": "2020-11-15T15:11:28.264563Z",
     "shell.execute_reply": "2020-11-15T15:11:28.263391Z"
    },
    "papermill": {
     "duration": 29.949403,
     "end_time": "2020-11-15T15:11:28.264731",
     "exception": false,
     "start_time": "2020-11-15T15:10:58.315328",
     "status": "completed"
    },
    "tags": []
   },
   "outputs": [],
   "source": [
    "X_test_transform = pd.get_dummies(X_test)\n",
    "y_test = model.predict(X_test_transform)\n",
    "outputfull = pd.DataFrame({'building_id': X_test.index,\n",
    "                       'damage_grade': y_test,\n",
    "                      })\n",
    "outputfull.to_csv('Submission.csv', index=False)"
   ]
  },
  {
   "cell_type": "code",
   "execution_count": null,
   "metadata": {
    "papermill": {
     "duration": 0.012579,
     "end_time": "2020-11-15T15:11:28.290924",
     "exception": false,
     "start_time": "2020-11-15T15:11:28.278345",
     "status": "completed"
    },
    "tags": []
   },
   "outputs": [],
   "source": []
  }
 ],
 "metadata": {
  "kernelspec": {
   "display_name": "Python 3",
   "language": "python",
   "name": "python3"
  },
  "language_info": {
   "codemirror_mode": {
    "name": "ipython",
    "version": 3
   },
   "file_extension": ".py",
   "mimetype": "text/x-python",
   "name": "python",
   "nbconvert_exporter": "python",
   "pygments_lexer": "ipython3",
   "version": "3.7.6"
  },
  "papermill": {
   "duration": 2116.782198,
   "end_time": "2020-11-15T15:11:29.668164",
   "environment_variables": {},
   "exception": null,
   "input_path": "__notebook__.ipynb",
   "output_path": "__notebook__.ipynb",
   "parameters": {},
   "start_time": "2020-11-15T14:36:12.885966",
   "version": "2.1.0"
  }
 },
 "nbformat": 4,
 "nbformat_minor": 4
}
